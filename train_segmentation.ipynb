{
 "cells": [
  {
   "cell_type": "markdown",
   "metadata": {},
   "source": [
    "# Train segmentation model"
   ]
  },
  {
   "cell_type": "markdown",
   "metadata": {},
   "source": [
    "## Import libs"
   ]
  },
  {
   "cell_type": "code",
   "execution_count": 1,
   "metadata": {},
   "outputs": [],
   "source": [
    "%load_ext autoreload\n",
    "%autoreload 2"
   ]
  },
  {
   "cell_type": "code",
   "execution_count": 2,
   "metadata": {},
   "outputs": [],
   "source": [
    "import os,sys,inspect\n",
    "# sys.path.insert(0,\"..\")\n",
    "# os.chdir('..')"
   ]
  },
  {
   "cell_type": "code",
   "execution_count": null,
   "metadata": {},
   "outputs": [],
   "source": [
    "# This cell for Google Colab\n",
    "# Upload the dataset to Google drive to use this notebook in Google Colab\n",
    "# Uncomment following code for connecting to Google Drive to get access to dataset\n",
    "# import os,sys,inspect\n",
    "# from google.colab import drive\n",
    "# drive.mount('/content/drive')\n",
    "# sys.path.append('/content/drive/to dataset folder')\n",
    "# %cd /content/drive/to dataset folder\n",
    "# if os.path.exists(\"datasets\"):\n",
    "#   print(\"Dataset already exists!\")\n",
    "# else:\n",
    "#   # Extract files\n",
    "#   print(\"Unzipping dataset...\")\n",
    "#   !unzip \"datasets.zip\""
   ]
  },
  {
   "cell_type": "code",
   "execution_count": 3,
   "metadata": {
    "jupyter": {
     "outputs_hidden": false
    }
   },
   "outputs": [
    {
     "name": "stdout",
     "output_type": "stream",
     "text": [
      "cuda:0\n"
     ]
    }
   ],
   "source": [
    "import torch\n",
    "import torch.nn as nn\n",
    "import torch.optim as optim\n",
    "import torch.nn.functional as F\n",
    "\n",
    "from torch.utils.data import DataLoader\n",
    "from torchvision import datasets, transforms, utils\n",
    "from torch.autograd import Variable\n",
    "\n",
    "import os\n",
    "import random\n",
    "import time\n",
    "import numpy as np\n",
    "import matplotlib.pyplot as plt\n",
    "\n",
    "import os\n",
    "import glob\n",
    "import matplotlib.pyplot as plt\n",
    "import numpy as np\n",
    "import torchvision.transforms as transforms\n",
    "import torch\n",
    "\n",
    "from sklearn.model_selection import train_test_split\n",
    "from PIL import Image\n",
    "from torch.utils.data import Dataset\n",
    "\n",
    "# Reproducibility\n",
    "random.seed(0)\n",
    "os.environ['PYTHONHASHSEED'] = str(0)\n",
    "np.random.seed(0)\n",
    "torch.manual_seed(0)\n",
    "torch.cuda.manual_seed(0)\n",
    "if torch.cuda.is_available():\n",
    "    torch.backends.cudnn.deterministic = True\n",
    "torch.backends.cudnn.benchmark = True\n",
    "\n",
    "# Device\n",
    "DEVICE = torch.device(\"cuda:0\" if torch.cuda.is_available() else \"cpu\")\n",
    "print(DEVICE)\n",
    "\n",
    "# Experiments are stored using the loss function names\n",
    "EXPERIMENT_NAME = \"unet_isic2018_BCE+Dice\"\n",
    "\n",
    "ROOT_DIR = os.path.abspath(\".\")\n",
    "LOG_PATH = os.path.join(ROOT_DIR, \"logs\", EXPERIMENT_NAME)\n",
    "\n",
    "if not os.path.exists(os.path.join(ROOT_DIR, \"logs\")):\n",
    "    os.mkdir(os.path.join(ROOT_DIR, \"logs\"))\n",
    "    \n",
    "if not os.path.exists(LOG_PATH):\n",
    "    os.mkdir(LOG_PATH)"
   ]
  },
  {
   "cell_type": "markdown",
   "metadata": {
    "tags": []
   },
   "source": [
    "## Load data\n",
    "\n",
    "Download ISIC-2018 lesion segmentation dataset from https://challenge.isic-archive.com/data/"
   ]
  },
  {
   "cell_type": "code",
   "execution_count": 4,
   "metadata": {
    "jupyter": {
     "outputs_hidden": false
    },
    "scrolled": true
   },
   "outputs": [],
   "source": [
    "class ISIC2018_dataloader(Dataset):\n",
    "    def __init__(self, data_folder, is_train=True):\n",
    "        self.is_train = is_train\n",
    "        self._data_folder = data_folder\n",
    "        self.build_dataset()\n",
    "\n",
    "    def build_dataset(self):\n",
    "        self._input_folder = os.path.join(self._data_folder, 'ISIC2018_Task1-2_Training_Input')\n",
    "        self._label_folder = os.path.join(self._data_folder, 'ISIC2018_Task1_Training_GroundTruth')\n",
    "        self._images = sorted(glob.glob(self._input_folder + \"/*.jpg\"))\n",
    "        self._labels = sorted(glob.glob(self._label_folder + \"/*.png\"))\n",
    "        \n",
    "        self.train_images, self.test_images, self.train_labels, self.test_labels = train_test_split(self._images, self._labels, \n",
    "                                                                            test_size=0.2, shuffle=False, random_state=0)\n",
    "        \n",
    "    def __len__(self):\n",
    "        if self.is_train:\n",
    "            return len(self.train_images)\n",
    "        else:\n",
    "            return len(self.test_images)\n",
    "\n",
    "    def __getitem__(self, idx):\n",
    "        \n",
    "        if self.is_train:\n",
    "            img_path = self.train_images[idx]\n",
    "            mask_path = self.train_labels[idx]\n",
    "        else:\n",
    "            img_path = self.test_images[idx]\n",
    "            mask_path = self.test_labels[idx]\n",
    "            \n",
    "        \n",
    "        image = Image.open(img_path).convert('RGB')\n",
    "        mask = Image.open(mask_path).convert('P')\n",
    "        \n",
    "        transforms_image = transforms.Compose([transforms.Resize((256, 256)), transforms.CenterCrop((256,256)),\n",
    "                                             transforms.ToTensor(),\n",
    "                                            transforms.Normalize((0.5, 0.5, 0.5),\n",
    "                                                (0.5, 0.5, 0.5))])\n",
    "        \n",
    "        transforms_mask = transforms.Compose([transforms.Resize((256, 256)), transforms.CenterCrop((256,256)),\n",
    "                                             transforms.ToTensor()])\n",
    "        \n",
    "        image = transforms_image(image)\n",
    "        mask = transforms_mask(mask)\n",
    "        \n",
    "        sample = {'image': image, 'mask': mask}\n",
    "        return sample\n",
    "    \n",
    "    \n",
    "\n",
    "train_dataset = ISIC2018_dataloader(\"datasets\")\n",
    "test_dataset = ISIC2018_dataloader(\"datasets\", is_train=False)\n",
    "\n",
    "train_dataloader = DataLoader(train_dataset, batch_size=5, shuffle=True, num_workers=0)\n",
    "test_dataloader = DataLoader(test_dataset, batch_size=1, shuffle=False, num_workers=0)"
   ]
  },
  {
   "cell_type": "code",
   "execution_count": null,
   "metadata": {
    "scrolled": true
   },
   "outputs": [],
   "source": []
  },
  {
   "cell_type": "code",
   "execution_count": 5,
   "metadata": {},
   "outputs": [
    {
     "data": {
      "text/plain": [
       "(torch.Size([5, 3, 256, 256]), torch.Size([5, 1, 256, 256]))"
      ]
     },
     "execution_count": 5,
     "metadata": {},
     "output_type": "execute_result"
    }
   ],
   "source": [
    "dt = next(iter(train_dataloader))\n",
    "x = dt[\"image\"]\n",
    "y = dt[\"mask\"]\n",
    "x.shape, y.shape"
   ]
  },
  {
   "cell_type": "code",
   "execution_count": 6,
   "metadata": {},
   "outputs": [
    {
     "name": "stdout",
     "output_type": "stream",
     "text": [
      "(256, 256, 3)\n"
     ]
    },
    {
     "data": {
      "text/plain": [
       "<matplotlib.image.AxesImage at 0x298d2c88490>"
      ]
     },
     "execution_count": 6,
     "metadata": {},
     "output_type": "execute_result"
    },
    {
     "data": {
      "image/png": "[encoded data removed]",
      "text/plain": [
       "<Figure size 432x288 with 1 Axes>"
      ]
     },
     "metadata": {
      "needs_background": "light"
     },
     "output_type": "display_data"
    }
   ],
   "source": [
    "def to_img(ten):\n",
    "    ten =(ten[0].permute(1,2,0).detach().cpu().numpy()+1)/2\n",
    "    ten=(ten*255).astype(np.uint8)\n",
    "    return ten\n",
    "\n",
    "a = to_img(x)\n",
    "print(a.shape)\n",
    "plt.imshow(a)\n",
    "#plt.imshow(a, cmap='gray')"
   ]
  },
  {
   "cell_type": "code",
   "execution_count": 7,
   "metadata": {},
   "outputs": [
    {
     "name": "stdout",
     "output_type": "stream",
     "text": [
      "(256, 256, 1)\n"
     ]
    },
    {
     "data": {
      "text/plain": [
       "<matplotlib.image.AxesImage at 0x298d2d3b610>"
      ]
     },
     "execution_count": 7,
     "metadata": {},
     "output_type": "execute_result"
    },
    {
     "data": {
      "image/png": "[encoded data removed]",
      "text/plain": [
       "<Figure size 432x288 with 1 Axes>"
      ]
     },
     "metadata": {
      "needs_background": "light"
     },
     "output_type": "display_data"
    }
   ],
   "source": [
    "a = to_img(y)\n",
    "# a = a[:,:,0]\n",
    "print(a.shape)\n",
    "plt.imshow(a, cmap='gray')"
   ]
  },
  {
   "cell_type": "markdown",
   "metadata": {},
   "source": [
    "## Load model"
   ]
  },
  {
   "cell_type": "code",
   "execution_count": 8,
   "metadata": {
    "jupyter": {
     "outputs_hidden": false
    }
   },
   "outputs": [],
   "source": [
    "import torchvision\n",
    "\n",
    "###### UNet model\n",
    "#########################################################################################\n",
    "\"\"\" Convolutional block:\n",
    "    It follows a two 3x3 convolutional layer, each followed by a batch normalization and a relu activation.\n",
    "\"\"\"\n",
    "class conv_block(nn.Module):\n",
    "    def __init__(self, in_c, out_c):\n",
    "        super().__init__()\n",
    "\n",
    "        self.conv1 = nn.Conv2d(in_c, out_c, kernel_size=3, padding=1)\n",
    "        self.bn1 = nn.BatchNorm2d(out_c)\n",
    "\n",
    "        self.conv2 = nn.Conv2d(out_c, out_c, kernel_size=3, padding=1)\n",
    "        self.bn2 = nn.BatchNorm2d(out_c)\n",
    "\n",
    "        self.relu = nn.ReLU()\n",
    "\n",
    "    def forward(self, inputs):\n",
    "        x = self.conv1(inputs)\n",
    "        x = self.bn1(x)\n",
    "        x = self.relu(x)\n",
    "\n",
    "        x = self.conv2(x)\n",
    "        x = self.bn2(x)\n",
    "        x = self.relu(x)\n",
    "\n",
    "        return x\n",
    "\n",
    "\"\"\" Encoder block:\n",
    "    It consists of an conv_block followed by a max pooling.\n",
    "    Here the number of filters doubles and the height and width half after every block.\n",
    "\"\"\"\n",
    "class encoder_block(nn.Module):\n",
    "    def __init__(self, in_c, out_c):\n",
    "        super().__init__()\n",
    "\n",
    "        self.conv = conv_block(in_c, out_c)\n",
    "        self.pool = nn.MaxPool2d((2, 2))\n",
    "\n",
    "    def forward(self, inputs):\n",
    "        x = self.conv(inputs)\n",
    "        p = self.pool(x)\n",
    "\n",
    "        return x, p\n",
    "\n",
    "\"\"\" Decoder block:\n",
    "    The decoder block begins with a transpose convolution, followed by a concatenation with the skip\n",
    "    connection from the encoder block. Next comes the conv_block.\n",
    "    Here the number filters decreases by half and the height and width doubles.\n",
    "\"\"\"\n",
    "class decoder_block(nn.Module):\n",
    "    def __init__(self, in_c, out_c):\n",
    "        super().__init__()\n",
    "\n",
    "        self.up = nn.ConvTranspose2d(in_c, out_c, kernel_size=2, stride=2, padding=0)\n",
    "        self.conv = conv_block(out_c+out_c, out_c)\n",
    "\n",
    "    def forward(self, inputs, skip):\n",
    "        x = self.up(inputs)\n",
    "        x = torch.cat([x, skip], axis=1)\n",
    "        x = self.conv(x)\n",
    "\n",
    "        return x\n",
    "\n",
    "\n",
    "class build_unet(nn.Module):\n",
    "    def __init__(self):\n",
    "        super().__init__()\n",
    "\n",
    "        \"\"\" Encoder \"\"\"\n",
    "        self.e1 = encoder_block(3, 64)\n",
    "        self.e2 = encoder_block(64, 128)\n",
    "        self.e3 = encoder_block(128, 256)\n",
    "        self.e4 = encoder_block(256, 512)\n",
    "\n",
    "        \"\"\" Bottleneck \"\"\"\n",
    "        self.b = conv_block(512, 1024)\n",
    "\n",
    "        \"\"\" Decoder \"\"\"\n",
    "        self.d1 = decoder_block(1024, 512)\n",
    "        self.d2 = decoder_block(512, 256)\n",
    "        self.d3 = decoder_block(256, 128)\n",
    "        self.d4 = decoder_block(128, 64)\n",
    "\n",
    "        \"\"\" Classifier \"\"\"\n",
    "        self.outputs = nn.Conv2d(64, 1, kernel_size=1, padding=0)\n",
    "        \n",
    "        # NOTE: \n",
    "        # nn.Conv2d(64, 1, kernel_size=1, padding=0) is mathematically same as \n",
    "        # nn.Conv2d(64, 1, kernel_size=3, stride=1, padding=1)\n",
    "\n",
    "    def forward(self, inputs):\n",
    "        \"\"\" Encoder \"\"\"\n",
    "        s1, p1 = self.e1(inputs)\n",
    "        s2, p2 = self.e2(p1)\n",
    "        s3, p3 = self.e3(p2)\n",
    "        s4, p4 = self.e4(p3)\n",
    "\n",
    "        \"\"\" Bottleneck \"\"\"\n",
    "        b = self.b(p4)\n",
    "\n",
    "        \"\"\" Decoder \"\"\"\n",
    "        d1 = self.d1(b, s4)\n",
    "        d2 = self.d2(d1, s3)\n",
    "        d3 = self.d3(d2, s2)\n",
    "        d4 = self.d4(d3, s1)\n",
    "\n",
    "        \"\"\" Classifier \"\"\"\n",
    "        outputs = self.outputs(d4)\n",
    "        return outputs\n",
    "######################################################################################### \n",
    "\n",
    "\n",
    "# Define model\n",
    "model = build_unet()\n",
    "\n",
    "# Send to GPU\n",
    "model = model.to(DEVICE)"
   ]
  },
  {
   "cell_type": "code",
   "execution_count": 9,
   "metadata": {},
   "outputs": [
    {
     "name": "stdout",
     "output_type": "stream",
     "text": [
      "All parameters  31043521\n",
      "Trainable parameters  31043521\n"
     ]
    }
   ],
   "source": [
    "# All parameters\n",
    "all_params = sum(p.numel() for p in model.parameters())\n",
    "print(\"All parameters \", all_params)\n",
    "\n",
    "# Trainable parameters\n",
    "all_train_params = sum(p.numel() for p in model.parameters() if p.requires_grad)\n",
    "print(\"Trainable parameters \", all_train_params)"
   ]
  },
  {
   "cell_type": "markdown",
   "metadata": {},
   "source": [
    "## Setup optim and loss"
   ]
  },
  {
   "cell_type": "code",
   "execution_count": 10,
   "metadata": {},
   "outputs": [],
   "source": [
    "# Define Loss Function:\n",
    "# Uncomment the loss function to use and then call the loss function class in the criterion in the next cell\n",
    "class DiceLoss(nn.Module):\n",
    "    def __init__(self, weight=None, size_average=True):\n",
    "        super(DiceLoss, self).__init__()\n",
    "\n",
    "    def forward(self, inputs, targets, smooth=1):\n",
    "        \n",
    "        inputs = torch.sigmoid(inputs)       \n",
    "        \n",
    "        #flatten label and prediction tensors\n",
    "        inputs = inputs.view(-1)\n",
    "        targets = targets.view(-1)\n",
    "        \n",
    "        intersection = (inputs * targets).sum()                            \n",
    "        dice = (2.*intersection + smooth)/(inputs.sum() + targets.sum() + smooth)  \n",
    "        \n",
    "        return 1 - dice\n",
    "# ALPHA1 = 0.8\n",
    "# GAMMA1 = 2\n",
    "\n",
    "# class FocalLoss(nn.Module):\n",
    "#     def __init__(self, weight=None, size_average=True):\n",
    "#         super(FocalLoss, self).__init__()\n",
    "\n",
    "#     def forward(self, inputs, targets, alpha=ALPHA1, gamma=GAMMA1, smooth=1):\n",
    "        \n",
    "#         #comment out if your model contains a sigmoid or equivalent activation layer\n",
    "#         inputs = torch.sigmoid(inputs)       \n",
    "        \n",
    "#         #flatten label and prediction tensors\n",
    "#         inputs = inputs.view(-1)\n",
    "#         targets = targets.view(-1)\n",
    "        \n",
    "#         #first compute binary cross-entropy \n",
    "#         BCE = F.binary_cross_entropy(inputs, targets, reduction='mean')\n",
    "#         BCE_EXP = torch.exp(-BCE)\n",
    "#         focal_loss = alpha * (1-BCE_EXP)**gamma * BCE\n",
    "                       \n",
    "#         return focal_loss\n",
    "# ALPHA2 = 0.5\n",
    "# BETA2 = 0.5\n",
    "\n",
    "# class TverskyLoss(nn.Module):\n",
    "#     def __init__(self, weight=None, size_average=True):\n",
    "#         super(TverskyLoss, self).__init__()\n",
    "\n",
    "#     def forward(self, inputs, targets, smooth=1, alpha=ALPHA2, beta=BETA2):\n",
    "        \n",
    "#         #comment out if your model contains a sigmoid or equivalent activation layer\n",
    "#         inputs = torch.sigmoid(inputs)       \n",
    "        \n",
    "#         #flatten label and prediction tensors\n",
    "#         inputs = inputs.view(-1)\n",
    "#         targets = targets.view(-1)\n",
    "        \n",
    "#         #True Positives, False Positives & False Negatives\n",
    "#         TP = (inputs * targets).sum()    \n",
    "#         FP = ((1-targets) * inputs).sum()\n",
    "#         FN = (targets * (1-inputs)).sum()\n",
    "       \n",
    "#         Tversky = (TP + smooth) / (TP + alpha*FP + beta*FN + smooth)  \n",
    "        \n",
    "#         return 1 - Tversky\n",
    "# ALPHA3 = 0.5\n",
    "# BETA3 = 0.5\n",
    "# GAMMA3 = 1\n",
    "\n",
    "# class FocalTverskyLoss(nn.Module):\n",
    "#     def __init__(self, weight=None, size_average=True):\n",
    "#         super(FocalTverskyLoss, self).__init__()\n",
    "\n",
    "#     def forward(self, inputs, targets, smooth=1, alpha=ALPHA3, beta=BETA3, gamma=GAMMA3):\n",
    "        \n",
    "#         #comment out if your model contains a sigmoid or equivalent activation layer\n",
    "#         inputs = torch.sigmoid(inputs)       \n",
    "        \n",
    "#         #flatten label and prediction tensors\n",
    "#         inputs = inputs.view(-1)\n",
    "#         targets = targets.view(-1)\n",
    "        \n",
    "#         #True Positives, False Positives & False Negatives\n",
    "#         TP = (inputs * targets).sum()    \n",
    "#         FP = ((1-targets) * inputs).sum()\n",
    "#         FN = (targets * (1-inputs)).sum()\n",
    "        \n",
    "#         Tversky = (TP + smooth) / (TP + alpha*FP + beta*FN + smooth)  \n",
    "#         FocalTversky = (1 - Tversky)**gamma\n",
    "                       \n",
    "#         return FocalTversky\n",
    "# class IoULoss(nn.Module):\n",
    "#     def __init__(self, weight=None, size_average=True):\n",
    "#         super(IoULoss, self).__init__()\n",
    "\n",
    "#     def forward(self, inputs, targets, smooth=1):\n",
    "        \n",
    "#         #comment out if your model contains a sigmoid or equivalent activation layer\n",
    "#         inputs = torch.sigmoid(inputs)       \n",
    "        \n",
    "#         #flatten label and prediction tensors\n",
    "#         inputs = inputs.view(-1)\n",
    "#         targets = targets.view(-1)\n",
    "        \n",
    "#         #intersection is equivalent to True Positive count\n",
    "#         #union is the mutually inclusive area of all labels & predictions \n",
    "#         intersection = (inputs * targets).sum()\n",
    "#         total = (inputs + targets).sum()\n",
    "#         union = total - intersection \n",
    "        \n",
    "#         IoU = (intersection + smooth)/(union + smooth)\n",
    "                \n",
    "#         return 1 - IoU"
   ]
  },
  {
   "cell_type": "code",
   "execution_count": 11,
   "metadata": {
    "jupyter": {
     "outputs_hidden": false
    }
   },
   "outputs": [],
   "source": [
    "# Call the loss function in criterion\n",
    "optimizer = optim.Adam(model.parameters(), lr=1e-4, weight_decay=1e-5)\n",
    "criterion = nn.BCEWithLogitsLoss() # loss combines a Sigmoid layer and the BCELoss in one single class\n",
    "\n",
    "# These are for applying the combinations of the loss functions.\n",
    "# criterion_bce = nn.BCEWithLogitsLoss()\n",
    "# criterion_dice = DiceLoss()\n",
    "# criterion_focal=FocalLoss()\n",
    "# criterion_tversky=TverskyLoss()\n",
    "# criterion_FT=FocalTverskyLoss()\n",
    "# criterion_IoU=IoULoss()"
   ]
  },
  {
   "cell_type": "markdown",
   "metadata": {},
   "source": [
    "## Train and eval functions"
   ]
  },
  {
   "cell_type": "code",
   "execution_count": 12,
   "metadata": {
    "jupyter": {
     "outputs_hidden": false
    }
   },
   "outputs": [],
   "source": [
    "def train(model, epoch):\n",
    "    model.train()\n",
    "    for batch_idx, data in enumerate(train_dataloader):\n",
    "        data, target = data[\"image\"].to(DEVICE), data[\"mask\"].to(DEVICE)\n",
    "        output = model.forward(data.float())\n",
    "        loss=criterion(output.float(), target.float())\n",
    "        \n",
    "#These are for the combinations of the loss functions\n",
    "#         loss1=criterion_bce(output.float(), target.float())\n",
    "#         loss2=criterion_dice(output.float(), target.float())\n",
    "#         loss3=criterion_focal(output.float(), target.float())\n",
    "#         loss4=criterion_tversky(output.float(), target.float())\n",
    "#         loss5=criterion_FT(output.float(), target.float())\n",
    "#         loss6=criterion_IoU(output.float(), target.float())\n",
    "#         loss=loss1+loss2+...    Keep adding\n",
    "        optimizer.zero_grad()\n",
    "        loss.backward()\n",
    "        optimizer.step()\n",
    "        # if batch_idx % 10 == 0:\n",
    "        #     print('Train Epoch: {} [{}/{} ({:.0f}%)]\\tLoss: {:.6f}'.format(\n",
    "        #         epoch, batch_idx * len(data), len(train_dataloader.dataset),\n",
    "        #         100. * batch_idx / len(train_dataloader), loss.data))\n",
    "            \n",
    "def test(model):\n",
    "    model.eval()\n",
    "    \n",
    "    with torch.no_grad():\n",
    "        test_loss = 0\n",
    "        jaccard = 0\n",
    "        dice = 0\n",
    "\n",
    "        for data in test_dataloader:\n",
    "            data, target = data[\"image\"].to(DEVICE), data[\"mask\"].to(DEVICE)\n",
    "            output = model(data.float())  \n",
    "            test_loss += criterion(output.float(), target.float()).item()\n",
    "            \n",
    "            output = torch.sigmoid(output) # Turn activations into probabilities by feeding through sigmoid\n",
    "            gt = target.permute(0, 2, 3, 1).squeeze().detach().cpu().numpy()\n",
    "            pred = output.permute(0, 2, 3, 1).squeeze().detach().cpu().numpy() > 0.5\n",
    "\n",
    "            intersection = pred * gt\n",
    "            union = pred + gt - intersection\n",
    "            jaccard += (np.sum(intersection)/np.sum(union))  \n",
    "            dice += (2. * np.sum(intersection) ) / (np.sum(pred) + np.sum(gt))\n",
    "    \n",
    "        test_loss /= len(test_dataloader)\n",
    "        jaccard /= len(test_dataloader)\n",
    "        dice /= len(test_dataloader)\n",
    "\n",
    "        losses.append(test_loss)\n",
    "        jacs.append(jaccard)\n",
    "        dices.append(dice)\n",
    "\n",
    "\n",
    "        print('Average Loss: {:.3f}'.format(test_loss))\n",
    "        print('Jaccard Index : {:.3f}'.format(jaccard * 100))\n",
    "        print('Dice Coefficient : {:.3f}'.format(dice * 100))\n",
    "        print('==========================================')\n",
    "        print('==========================================')\n",
    "        return dice"
   ]
  },
  {
   "cell_type": "markdown",
   "metadata": {
    "jupyter": {
     "outputs_hidden": false
    }
   },
   "source": [
    "## Train model"
   ]
  },
  {
   "cell_type": "code",
   "execution_count": 13,
   "metadata": {
    "jupyter": {
     "outputs_hidden": false
    }
   },
   "outputs": [
    {
     "name": "stdout",
     "output_type": "stream",
     "text": [
      "Epoch: 1\n",
      "Average Loss: 0.238\n",
      "Jaccard Index : 70.975\n",
      "Dice Coefficient : 80.905\n",
      "==========================================\n",
      "==========================================\n",
      "Saving model at dice=0.809\n",
      "Epoch: 2\n",
      "Average Loss: 0.229\n",
      "Jaccard Index : 72.021\n",
      "Dice Coefficient : 81.688\n",
      "==========================================\n",
      "==========================================\n",
      "Saving model at dice=0.817\n",
      "Epoch: 3\n",
      "Average Loss: 0.223\n",
      "Jaccard Index : 72.274\n",
      "Dice Coefficient : 81.413\n",
      "==========================================\n",
      "==========================================\n",
      "Epoch: 4\n",
      "Average Loss: 0.352\n",
      "Jaccard Index : 67.057\n",
      "Dice Coefficient : 77.296\n",
      "==========================================\n",
      "==========================================\n",
      "Epoch: 5\n",
      "Average Loss: 0.232\n",
      "Jaccard Index : 74.586\n",
      "Dice Coefficient : 83.528\n",
      "==========================================\n",
      "==========================================\n",
      "Saving model at dice=0.835\n",
      "Epoch: 6\n",
      "Average Loss: 0.182\n",
      "Jaccard Index : 77.884\n",
      "Dice Coefficient : 86.204\n",
      "==========================================\n",
      "==========================================\n",
      "Saving model at dice=0.862\n",
      "Epoch: 7\n",
      "Average Loss: 0.226\n",
      "Jaccard Index : 77.092\n",
      "Dice Coefficient : 85.415\n",
      "==========================================\n",
      "==========================================\n",
      "Epoch: 8\n",
      "Average Loss: 0.215\n",
      "Jaccard Index : 76.646\n",
      "Dice Coefficient : 85.164\n",
      "==========================================\n",
      "==========================================\n",
      "Epoch: 9\n",
      "Average Loss: 0.235\n",
      "Jaccard Index : 76.201\n",
      "Dice Coefficient : 84.598\n",
      "==========================================\n",
      "==========================================\n",
      "Epoch: 10\n",
      "Average Loss: 0.227\n",
      "Jaccard Index : 76.420\n",
      "Dice Coefficient : 84.676\n",
      "==========================================\n",
      "==========================================\n",
      "Epoch: 11\n",
      "Average Loss: 0.183\n",
      "Jaccard Index : 78.009\n",
      "Dice Coefficient : 86.306\n",
      "==========================================\n",
      "==========================================\n",
      "Saving model at dice=0.863\n",
      "Epoch: 12\n",
      "Average Loss: 0.207\n",
      "Jaccard Index : 78.722\n",
      "Dice Coefficient : 86.693\n",
      "==========================================\n",
      "==========================================\n",
      "Saving model at dice=0.867\n",
      "Epoch: 13\n",
      "Average Loss: 0.216\n",
      "Jaccard Index : 75.621\n",
      "Dice Coefficient : 83.988\n",
      "==========================================\n",
      "==========================================\n",
      "Epoch: 14\n",
      "Average Loss: 0.206\n",
      "Jaccard Index : 77.836\n",
      "Dice Coefficient : 86.321\n",
      "==========================================\n",
      "==========================================\n",
      "Epoch: 15\n",
      "Average Loss: 0.217\n",
      "Jaccard Index : 78.121\n",
      "Dice Coefficient : 86.078\n",
      "==========================================\n",
      "==========================================\n",
      "Epoch: 16\n",
      "Average Loss: 0.195\n",
      "Jaccard Index : 78.437\n",
      "Dice Coefficient : 86.529\n",
      "==========================================\n",
      "==========================================\n",
      "Epoch: 17\n",
      "Average Loss: 0.263\n",
      "Jaccard Index : 76.616\n",
      "Dice Coefficient : 84.856\n",
      "==========================================\n",
      "==========================================\n",
      "Epoch: 18\n",
      "Average Loss: 0.184\n",
      "Jaccard Index : 79.100\n",
      "Dice Coefficient : 87.162\n",
      "==========================================\n",
      "==========================================\n",
      "Saving model at dice=0.872\n",
      "Epoch: 19\n",
      "Average Loss: 0.194\n",
      "Jaccard Index : 80.369\n",
      "Dice Coefficient : 87.999\n",
      "==========================================\n",
      "==========================================\n",
      "Saving model at dice=0.880\n",
      "Epoch: 20\n",
      "Average Loss: 0.213\n",
      "Jaccard Index : 78.630\n",
      "Dice Coefficient : 86.697\n",
      "==========================================\n",
      "==========================================\n",
      "Epoch: 21\n",
      "Average Loss: 0.211\n",
      "Jaccard Index : 78.287\n",
      "Dice Coefficient : 86.567\n",
      "==========================================\n",
      "==========================================\n",
      "Epoch: 22\n",
      "Average Loss: 0.211\n",
      "Jaccard Index : 76.751\n",
      "Dice Coefficient : 85.436\n",
      "==========================================\n",
      "==========================================\n",
      "Epoch: 23\n",
      "Average Loss: 0.226\n",
      "Jaccard Index : 74.767\n",
      "Dice Coefficient : 83.682\n",
      "==========================================\n",
      "==========================================\n",
      "Epoch: 24\n",
      "Average Loss: 0.196\n",
      "Jaccard Index : 78.763\n",
      "Dice Coefficient : 86.878\n",
      "==========================================\n",
      "==========================================\n",
      "Epoch: 25\n",
      "Average Loss: 0.220\n",
      "Jaccard Index : 79.471\n",
      "Dice Coefficient : 87.235\n",
      "==========================================\n",
      "==========================================\n",
      "Epoch: 26\n",
      "Average Loss: 0.245\n",
      "Jaccard Index : 78.433\n",
      "Dice Coefficient : 86.486\n",
      "==========================================\n",
      "==========================================\n",
      "Epoch: 27\n",
      "Average Loss: 0.190\n",
      "Jaccard Index : 80.505\n",
      "Dice Coefficient : 87.997\n",
      "==========================================\n",
      "==========================================\n",
      "Epoch: 28\n",
      "Average Loss: 0.198\n",
      "Jaccard Index : 78.412\n",
      "Dice Coefficient : 86.666\n",
      "==========================================\n",
      "==========================================\n",
      "Epoch: 29\n",
      "Average Loss: 0.228\n",
      "Jaccard Index : 77.129\n",
      "Dice Coefficient : 85.622\n",
      "==========================================\n",
      "==========================================\n",
      "--- Time taken to train : 4.0 hours ---\n",
      "--- Time taken to train : 284.0 mins ---\n"
     ]
    }
   ],
   "source": [
    "losses = []\n",
    "jacs = []\n",
    "dices = []\n",
    "\n",
    "score = 0\n",
    "best_score = 0\n",
    "\n",
    "start_time = time.time()\n",
    "\n",
    "N_EPOCHS = 30 # Do 100 or more!\n",
    " \n",
    "for epoch in range(1, N_EPOCHS):\n",
    "    print(\"Epoch: {}\".format(epoch))\n",
    "    train(model, epoch)\n",
    "    score = test(model)\n",
    "    \n",
    "    # Save best model\n",
    "    if score > best_score:\n",
    "        print(\"Saving model at dice={:.3f}\".format(score))\n",
    "        torch.save(model.state_dict(), '{}/{}.pth'.format(LOG_PATH, EXPERIMENT_NAME))\n",
    "        best_score = score\n",
    "\n",
    "        \n",
    "# Save losses\n",
    "losses = np.array(losses)\n",
    "np.savetxt(\"{}/{}_loss.txt\".format(LOG_PATH, EXPERIMENT_NAME), losses, delimiter=\",\")\n",
    "jacs = np.array(jacs)\n",
    "np.savetxt(\"{}/{}_jacs.txt\".format(LOG_PATH, EXPERIMENT_NAME), jacs, delimiter=\",\")\n",
    "dices = np.array(dices)\n",
    "np.savetxt(\"{}/{}_dices.txt\".format(LOG_PATH, EXPERIMENT_NAME), dices, delimiter=\",\")\n",
    "\n",
    "end_time = time.time()\n",
    "print(\"--- Time taken to train : %s hours ---\" % ((end_time - start_time)//3600))\n",
    "print(\"--- Time taken to train : %s mins ---\" % ((end_time - start_time)//60))"
   ]
  },
  {
   "cell_type": "code",
   "execution_count": null,
   "metadata": {},
   "outputs": [],
   "source": []
  },
  {
   "cell_type": "code",
   "execution_count": 14,
   "metadata": {},
   "outputs": [
    {
     "data": {
      "text/plain": [
       "0.8799850391321179"
      ]
     },
     "execution_count": 14,
     "metadata": {},
     "output_type": "execute_result"
    }
   ],
   "source": [
    "best_score"
   ]
  },
  {
   "cell_type": "code",
   "execution_count": 15,
   "metadata": {},
   "outputs": [
    {
     "data": {
      "text/plain": [
       "(0.8050537468625056, 0.8799850391321179, 0.18170441238134238)"
      ]
     },
     "execution_count": 15,
     "metadata": {},
     "output_type": "execute_result"
    }
   ],
   "source": [
    "max(jacs), max(dices), min(losses)"
   ]
  },
  {
   "cell_type": "code",
   "execution_count": null,
   "metadata": {},
   "outputs": [],
   "source": []
  },
  {
   "cell_type": "code",
   "execution_count": 16,
   "metadata": {},
   "outputs": [
    {
     "data": {
      "image/png": "[encoded data removed]",
      "text/plain": [
       "<Figure size 1080x360 with 2 Axes>"
      ]
     },
     "metadata": {
      "needs_background": "light"
     },
     "output_type": "display_data"
    }
   ],
   "source": [
    "# Plot training & validation loss values\n",
    "# b, g, r, y, o, -g, -m,\n",
    "plt.figure(figsize=(15, 5))\n",
    "plt.subplot(121)\n",
    "plt.plot(losses,linewidth=4)\n",
    "plt.title('{} loss'.format(\"Exp name\"))\n",
    "#plt.ylabel('Loss')\n",
    "plt.xlabel('Epoch')\n",
    "plt.legend(['loss'], loc='upper left')\n",
    "plt.grid(True)\n",
    "# Plot training & validation iou_score values\n",
    "plt.subplot(122)\n",
    "plt.plot(jacs,linewidth=4)\n",
    "plt.plot(dices,linewidth=4)\n",
    "#plt.title('{} IOU score'.format(experiment_name))\n",
    "#plt.ylabel('iou_score')\n",
    "plt.xlabel('Epoch')\n",
    "plt.grid(True)\n",
    "plt.legend(['Jaccard', 'Dice'], loc='upper left')\n",
    "plt.savefig('{}/{}_graph.png'.format(LOG_PATH, EXPERIMENT_NAME), dpi=300)\n",
    "plt.show()"
   ]
  },
  {
   "cell_type": "code",
   "execution_count": null,
   "metadata": {},
   "outputs": [],
   "source": []
  }
 ],
 "metadata": {
  "kernelspec": {
   "display_name": "Python 3 (ipykernel)",
   "language": "python",
   "name": "python3"
  },
  "language_info": {
   "codemirror_mode": {
    "name": "ipython",
    "version": 3
   },
   "file_extension": ".py",
   "mimetype": "text/x-python",
   "name": "python",
   "nbconvert_exporter": "python",
   "pygments_lexer": "ipython3",
   "version": "3.9.7"
  }
 },
 "nbformat": 4,
 "nbformat_minor": 4
}
